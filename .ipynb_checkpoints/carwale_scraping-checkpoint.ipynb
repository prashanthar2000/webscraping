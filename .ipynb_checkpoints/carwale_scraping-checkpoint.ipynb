{
 "cells": [
  {
   "cell_type": "code",
   "execution_count": 1,
   "metadata": {
    "collapsed": true
   },
   "outputs": [],
   "source": [
    "from bs4 import BeautifulSoup\n",
    "import requests\n",
    "import re\n",
    "import os"
   ]
  },
  {
   "cell_type": "code",
   "execution_count": 2,
   "metadata": {
    "collapsed": true
   },
   "outputs": [],
   "source": [
    "url=\"https://www.carwale.com\"\n",
    "response = requests.get(url)"
   ]
  },
  {
   "cell_type": "code",
   "execution_count": 3,
   "metadata": {
    "collapsed": true
   },
   "outputs": [],
   "source": [
    "soup = BeautifulSoup(response.content,\"html.parser\")\n",
    "brand_type = soup.find(id=\"brand-type\")\n",
    "\n",
    "brand_type=brand_type.ul.find_all(\"li\")"
   ]
  },
  {
   "cell_type": "code",
   "execution_count": 4,
   "metadata": {},
   "outputs": [
    {
     "data": {
      "text/plain": [
       "<a href=\"/hyundai-cars/\"><span class=\"brand-type-title\">Hyundai</span></a>"
      ]
     },
     "execution_count": 4,
     "metadata": {},
     "output_type": "execute_result"
    }
   ],
   "source": [
    "brand=brand_type[1].a\n",
    "brand"
   ]
  },
  {
   "cell_type": "code",
   "execution_count": 5,
   "metadata": {},
   "outputs": [
    {
     "data": {
      "text/plain": [
       "'/hyundai-cars/'"
      ]
     },
     "execution_count": 5,
     "metadata": {},
     "output_type": "execute_result"
    }
   ],
   "source": [
    "m= re.search(r'<a href=\"(\\S+)\"',str(brand))\n",
    "m.group(1)"
   ]
  },
  {
   "cell_type": "code",
   "execution_count": 6,
   "metadata": {},
   "outputs": [
    {
     "data": {
      "text/plain": [
       "['marutisuzuki-cars',\n",
       " 'hyundai-cars',\n",
       " 'mahindra-cars',\n",
       " 'tata-cars',\n",
       " 'toyota-cars',\n",
       " 'renault-cars',\n",
       " 'honda-cars',\n",
       " 'mg-cars',\n",
       " 'ford-cars',\n",
       " 'kia-cars',\n",
       " 'volkswagen-cars',\n",
       " 'mercedesbenz-cars',\n",
       " 'bmw-cars',\n",
       " 'skoda-cars',\n",
       " 'audi-cars',\n",
       " 'jeep-cars',\n",
       " 'datsun-cars',\n",
       " 'landrover-cars',\n",
       " 'nissan-cars',\n",
       " 'jaguar-cars',\n",
       " 'volvo-cars',\n",
       " 'porsche-cars',\n",
       " 'lexus-cars',\n",
       " 'fiat-cars',\n",
       " 'lamborghini-cars',\n",
       " 'isuzu-cars',\n",
       " 'mitsubishi-cars',\n",
       " 'mini-cars',\n",
       " 'forcemotors-cars',\n",
       " 'bentley-cars',\n",
       " 'rollsroyce-cars',\n",
       " 'dc-cars',\n",
       " 'ferrari-cars',\n",
       " 'maserati-cars',\n",
       " 'astonmartin-cars',\n",
       " 'bugatti-cars',\n",
       " 'tesla-cars',\n",
       " 'citroen-cars']"
      ]
     },
     "execution_count": 6,
     "metadata": {},
     "output_type": "execute_result"
    }
   ],
   "source": [
    "#f=open(\"/home/arch/project/car_url.txt\",\"w+\")\n",
    "brand_name=[]\n",
    "for i in brand_type:\n",
    "    i.a\n",
    "    m= re.search(r'<a href=\"(\\S+)\"',str(i.a))\n",
    "    brand_name.append(m.group(1)[1:-1])\n",
    "    #print(url+m.group(1))\n",
    "    \n",
    "#f.close()\n",
    "brand_name    \n",
    "    "
   ]
  },
  {
   "cell_type": "code",
   "execution_count": 7,
   "metadata": {},
   "outputs": [
    {
     "data": {
      "text/plain": [
       "['https://www.carwale.com/marutisuzuki-cars/',\n",
       " 'https://www.carwale.com/hyundai-cars/',\n",
       " 'https://www.carwale.com/mahindra-cars/',\n",
       " 'https://www.carwale.com/tata-cars/',\n",
       " 'https://www.carwale.com/toyota-cars/',\n",
       " 'https://www.carwale.com/renault-cars/',\n",
       " 'https://www.carwale.com/honda-cars/',\n",
       " 'https://www.carwale.com/mg-cars/',\n",
       " 'https://www.carwale.com/ford-cars/',\n",
       " 'https://www.carwale.com/kia-cars/',\n",
       " 'https://www.carwale.com/volkswagen-cars/',\n",
       " 'https://www.carwale.com/mercedesbenz-cars/',\n",
       " 'https://www.carwale.com/bmw-cars/',\n",
       " 'https://www.carwale.com/skoda-cars/',\n",
       " 'https://www.carwale.com/audi-cars/',\n",
       " 'https://www.carwale.com/jeep-cars/',\n",
       " 'https://www.carwale.com/datsun-cars/',\n",
       " 'https://www.carwale.com/landrover-cars/',\n",
       " 'https://www.carwale.com/nissan-cars/',\n",
       " 'https://www.carwale.com/jaguar-cars/',\n",
       " 'https://www.carwale.com/volvo-cars/',\n",
       " 'https://www.carwale.com/porsche-cars/',\n",
       " 'https://www.carwale.com/lexus-cars/',\n",
       " 'https://www.carwale.com/fiat-cars/',\n",
       " 'https://www.carwale.com/lamborghini-cars/',\n",
       " 'https://www.carwale.com/isuzu-cars/',\n",
       " 'https://www.carwale.com/mitsubishi-cars/',\n",
       " 'https://www.carwale.com/mini-cars/',\n",
       " 'https://www.carwale.com/forcemotors-cars/',\n",
       " 'https://www.carwale.com/bentley-cars/',\n",
       " 'https://www.carwale.com/rollsroyce-cars/',\n",
       " 'https://www.carwale.com/dc-cars/',\n",
       " 'https://www.carwale.com/ferrari-cars/',\n",
       " 'https://www.carwale.com/maserati-cars/',\n",
       " 'https://www.carwale.com/astonmartin-cars/',\n",
       " 'https://www.carwale.com/bugatti-cars/',\n",
       " 'https://www.carwale.com/tesla-cars/',\n",
       " 'https://www.carwale.com/citroen-cars/']"
      ]
     },
     "execution_count": 7,
     "metadata": {},
     "output_type": "execute_result"
    }
   ],
   "source": [
    "f=open(\"/home/arch/project/car_url.txt\",\"r\")\n",
    "url=[]\n",
    "for i in f.readlines():\n",
    "    url.append(i[:-1])\n",
    "    \n",
    "url"
   ]
  },
  {
   "cell_type": "code",
   "execution_count": 8,
   "metadata": {
    "collapsed": true
   },
   "outputs": [],
   "source": [
    "response = requests.get(url[0])\n",
    "soup = BeautifulSoup(response.content,\"html.parser\")\n"
   ]
  },
  {
   "cell_type": "code",
   "execution_count": 12,
   "metadata": {
    "collapsed": true
   },
   "outputs": [],
   "source": [
    "model_name = soup.findAll(\"strong\",{\"class\":\"text-unbold\"})\n",
    "#model_name"
   ]
  },
  {
   "cell_type": "code",
   "execution_count": 9,
   "metadata": {},
   "outputs": [
    {
     "name": "stdout",
     "output_type": "stream",
     "text": [
      "https://www.carwale.com/marutisuzuki-cars/suzuki-s-presso/\n",
      "https://www.carwale.com/marutisuzuki-cars/suzuki-baleno/\n",
      "https://www.carwale.com/marutisuzuki-cars/suzuki-swift/\n",
      "https://www.carwale.com/marutisuzuki-cars/suzuki-ertiga/\n",
      "https://www.carwale.com/marutisuzuki-cars/suzuki-vitara-brezza/\n",
      "https://www.carwale.com/marutisuzuki-cars/suzuki-alto/\n",
      "https://www.carwale.com/marutisuzuki-cars/suzuki-dzire/\n",
      "https://www.carwale.com/marutisuzuki-cars/suzuki-wagon-r/\n",
      "https://www.carwale.com/marutisuzuki-cars/suzuki-celerio/\n",
      "https://www.carwale.com/marutisuzuki-cars/suzuki-alto-k10/\n",
      "https://www.carwale.com/marutisuzuki-cars/suzuki-xl6/\n",
      "https://www.carwale.com/marutisuzuki-cars/suzuki-s-cross/\n",
      "https://www.carwale.com/marutisuzuki-cars/suzuki-eeco/\n",
      "https://www.carwale.com/marutisuzuki-cars/suzuki-ciaz/\n",
      "https://www.carwale.com/marutisuzuki-cars/suzuki-ignis/\n",
      "https://www.carwale.com/marutisuzuki-cars/suzuki-celerio-x/\n",
      "https://www.carwale.com/marutisuzuki-cars/suzuki-gypsy/\n",
      "https://www.carwale.com/marutisuzuki-cars/suzuki-new-vitara-brezza/\n"
     ]
    }
   ],
   "source": [
    "f = open(\"/home/arch/project/model_name_url2.txt\",\"w+\")\n",
    "\n",
    "for i  in range(len(model_name)):\n",
    "    temp = str(model_name[i].text)\n",
    "    var = temp.split(\" \",1)[1].lower()\n",
    "    #var = temp.split(\" \",2)[2].lower()      #for 2 word name\n",
    "    new_list=var.split()\n",
    "    s = \"-\"\n",
    "    s = s.join(new_list)\n",
    "    #print(s)\n",
    "    #model_name_url.append(url[1]+ var)\n",
    "    print(url[0]+ s+\"/\")\n",
    "    \n",
    "f.close()\n"
   ]
  },
  {
   "cell_type": "code",
   "execution_count": 13,
   "metadata": {},
   "outputs": [
    {
     "data": {
      "text/plain": [
       "['https://www.carwale.com/marutisuzuki-cars/s-presso/',\n",
       " 'https://www.carwale.com/marutisuzuki-cars/baleno/',\n",
       " 'https://www.carwale.com/marutisuzuki-cars/swift/',\n",
       " 'https://www.carwale.com/marutisuzuki-cars/ertiga/',\n",
       " 'https://www.carwale.com/marutisuzuki-cars/vitara-brezza/',\n",
       " 'https://www.carwale.com/marutisuzuki-cars/alto/',\n",
       " 'https://www.carwale.com/marutisuzuki-cars/dzire/',\n",
       " 'https://www.carwale.com/marutisuzuki-cars/wagon-r/',\n",
       " 'https://www.carwale.com/marutisuzuki-cars/xl6/',\n",
       " 'https://www.carwale.com/marutisuzuki-cars/alto-k10/',\n",
       " 'https://www.carwale.com/marutisuzuki-cars/celerio/',\n",
       " 'https://www.carwale.com/marutisuzuki-cars/s-cross/',\n",
       " 'https://www.carwale.com/marutisuzuki-cars/eeco/',\n",
       " 'https://www.carwale.com/marutisuzuki-cars/ciaz/',\n",
       " 'https://www.carwale.com/marutisuzuki-cars/ignis/',\n",
       " 'https://www.carwale.com/marutisuzuki-cars/celerio-x/',\n",
       " 'https://www.carwale.com/marutisuzuki-cars/gypsy/',\n",
       " 'https://www.carwale.com/marutisuzuki-cars/new-vitara-brezza/']"
      ]
     },
     "execution_count": 13,
     "metadata": {},
     "output_type": "execute_result"
    }
   ],
   "source": [
    "f=open(\"/home/arch/project/model_name_url.txt\",\"r\")\n",
    "model_name_url=[]\n",
    "for i in f.readlines():\n",
    "    model_name_url.append(i[:-1])\n",
    "model_name_url"
   ]
  },
  {
   "cell_type": "code",
   "execution_count": 14,
   "metadata": {
    "collapsed": true
   },
   "outputs": [],
   "source": [
    "response = requests.get(model_name_url[1])\n",
    "soup = BeautifulSoup(response.content,\"html.parser\")"
   ]
  },
  {
   "cell_type": "code",
   "execution_count": 60,
   "metadata": {},
   "outputs": [
    {
     "data": {
      "text/plain": [
       "<tr><th class=\"variant-table__col-heading\">Variants</th><th class=\"variant-table__col-heading\">Avg. Ex-Showroom price</th></tr>"
      ]
     },
     "execution_count": 60,
     "metadata": {},
     "output_type": "execute_result"
    }
   ],
   "source": [
    "genral_details={}\n",
    "specs = soup.findAll(\"tr\",{\"class\":\"\"})\n",
    "specs[6]\n"
   ]
  },
  {
   "cell_type": "code",
   "execution_count": 61,
   "metadata": {},
   "outputs": [
    {
     "data": {
      "text/plain": [
       "{'Engine': ' 998 to 1248 cc',\n",
       " 'FuelType': ' Petrol and Diesel',\n",
       " 'Mileage': ' 19.56 to 27.39 kmpl',\n",
       " 'Price': 'Rs. 5.67 Lakhs onwards',\n",
       " 'Transmission': ' Manual and Automatic (CVT)'}"
      ]
     },
     "execution_count": 61,
     "metadata": {},
     "output_type": "execute_result"
    }
   ],
   "source": [
    "for i in range(5):\n",
    "    \n",
    "    genral_details[specs[i].th.text]= specs[i].td.span.text\n",
    "genral_details"
   ]
  },
  {
   "cell_type": "code",
   "execution_count": 14,
   "metadata": {
    "collapsed": true
   },
   "outputs": [],
   "source": [
    "f=open(\"/home/arch/project/s-press_gen.txt\",\"w+\")\n",
    "print(genral_details,file = f)\n",
    "f.close()\n"
   ]
  },
  {
   "cell_type": "code",
   "execution_count": 62,
   "metadata": {},
   "outputs": [
    {
     "data": {
      "text/plain": [
       "'/marutisuzuki-cars/baleno/sigma12/'"
      ]
     },
     "execution_count": 62,
     "metadata": {},
     "output_type": "execute_result"
    }
   ],
   "source": [
    "varient = soup.findAll(\"div\",{\"class\":\"variant__name\"})\n",
    "#varient[0].a\n",
    "m= re.search(r'<a href=\"(\\S+)\"',str(varient[0].a))\n",
    "m.group(1)"
   ]
  },
  {
   "cell_type": "code",
   "execution_count": 63,
   "metadata": {},
   "outputs": [
    {
     "data": {
      "text/plain": [
       "{'Alpha 1.2 ': 'https://www.carwale.com/marutisuzuki-cars/baleno/alpha12/',\n",
       " 'Alpha 1.2 AT ': 'https://www.carwale.com/marutisuzuki-cars/baleno/alpha12at/',\n",
       " 'Alpha 1.3 ': 'https://www.carwale.com/marutisuzuki-cars/baleno/alpha13/',\n",
       " 'Delta 1.2 ': 'https://www.carwale.com/marutisuzuki-cars/baleno/delta12/',\n",
       " 'Delta 1.2 AT ': 'https://www.carwale.com/marutisuzuki-cars/baleno/delta12at/',\n",
       " 'Delta 1.2 Dualjet ': 'https://www.carwale.com/marutisuzuki-cars/baleno/delta12dualjet/',\n",
       " 'Delta 1.3 ': 'https://www.carwale.com/marutisuzuki-cars/baleno/delta13/',\n",
       " 'RS ': 'https://www.carwale.com/marutisuzuki-cars/baleno/rs/',\n",
       " 'Sigma 1.2 ': 'https://www.carwale.com/marutisuzuki-cars/baleno/sigma12/',\n",
       " 'Sigma 1.3 ': 'https://www.carwale.com/marutisuzuki-cars/baleno/sigma13/',\n",
       " 'Zeta 1.2 ': 'https://www.carwale.com/marutisuzuki-cars/baleno/zeta12/',\n",
       " 'Zeta 1.2 AT ': 'https://www.carwale.com/marutisuzuki-cars/baleno/zeta12at/',\n",
       " 'Zeta 1.2 Dualjet ': 'https://www.carwale.com/marutisuzuki-cars/baleno/zeta12dualjet/',\n",
       " 'Zeta 1.3 ': 'https://www.carwale.com/marutisuzuki-cars/baleno/zeta13/'}"
      ]
     },
     "execution_count": 63,
     "metadata": {},
     "output_type": "execute_result"
    }
   ],
   "source": [
    "varients_url = {}\n",
    "for i in range(len(varient)):\n",
    "    m= re.search(r'<a href=\"(\\S+)\"',str(varient[i].a))\n",
    "    varients_url[varient[i].a.text]= \"https://www.carwale.com\"+ m.group(1)\n",
    "#f=open(\"/home/arch/project/varients_url.txt\",\"w+\")\n",
    "#print(varients_url,file = f)\n",
    "brand_type_version_url = list(varients_url.values())\n",
    "brand_type_version_url\n",
    "varients_url"
   ]
  },
  {
   "cell_type": "code",
   "execution_count": 64,
   "metadata": {
    "collapsed": true
   },
   "outputs": [],
   "source": [
    "def mkdir(relative_path):\n",
    "    try:\n",
    "        os.mkdir(\"/home/arch/project/\"+relative_path)\n",
    "    except FileExistsError:\n",
    "        pass#print(\"already exits\")\n",
    "    except FileNotFoundError:\n",
    "        print(\"check path of directory again\")\n",
    "\n",
    "def open_file(file_name,mode,relative_path=\"/home/arch/project/\"):\n",
    "    f=open(relative_path+file_name,mode)\n",
    "    return f\n",
    "for i in brand_name:\n",
    "    mkdir(i)\n"
   ]
  },
  {
   "cell_type": "code",
   "execution_count": 65,
   "metadata": {
    "collapsed": true
   },
   "outputs": [],
   "source": [
    "response = requests.get('https://www.carwale.com/marutisuzuki-cars/baleno/alpha12/')\n",
    "soup = BeautifulSoup(response.content,\"html.parser\")"
   ]
  },
  {
   "cell_type": "code",
   "execution_count": 66,
   "metadata": {},
   "outputs": [
    {
     "data": {
      "text/plain": [
       "{'key Specifications': {'Engine': ' 1197 cc',\n",
       "  'FuelType': ' Petrol',\n",
       "  'Mileage': ' 21.01 kmpl',\n",
       "  'Price': 'Rs. 7.67 Lakhs',\n",
       "  'Transmission': ' Manual'}}"
      ]
     },
     "execution_count": 66,
     "metadata": {},
     "output_type": "execute_result"
    }
   ],
   "source": [
    "def gen_data(soup):\n",
    "    temp={}\n",
    "    specs = soup.findAll(\"tr\",{\"class\":\"\"})\n",
    "    for i in range(5):\n",
    "        temp[specs[i].th.text]= specs[i].td.span.text\n",
    "    return temp\n",
    "temp = gen_data(soup)\n",
    "modelName={\"key Specifications\":gen_data(soup)}\n",
    "modelName"
   ]
  },
  {
   "cell_type": "code",
   "execution_count": 67,
   "metadata": {},
   "outputs": [
    {
     "data": {
      "text/plain": [
       "'1197cc, 4 Cylinders Inline, 4 Valves/Cylinder, DOHC '"
      ]
     },
     "execution_count": 67,
     "metadata": {},
     "output_type": "execute_result"
    }
   ],
   "source": [
    "specs= soup.findAll(\"table\",{\"class\":\"specs\"})\n",
    "specs[0].th.text\n",
    "specs_tr=specs[0].findAll(\"tr\")\n",
    "specs_td=specs_tr[0].findAll(\"td\")\n",
    "specs_td[1].text"
   ]
  },
  {
   "cell_type": "code",
   "execution_count": 68,
   "metadata": {
    "collapsed": true
   },
   "outputs": [],
   "source": [
    "specifications={}\n",
    "for i in range(4):\n",
    "    specs_tr=specs[i].findAll(\"tr\")\n",
    "    temp={}\n",
    "    for j in range(len(specs_tr)):\n",
    "        specs_td=specs_tr[j].findAll(\"td\")\n",
    "        temp[specs_td[0].text]=specs_td[1].text\n",
    "                \n",
    "            \n",
    "    \n",
    "    \n",
    "    specifications[specs[i].th.text]=temp\n",
    "#specifications"
   ]
  },
  {
   "cell_type": "code",
   "execution_count": 69,
   "metadata": {},
   "outputs": [
    {
     "data": {
      "text/plain": [
       "<td>2 (Driver &amp; Co-Driver)  </td>"
      ]
     },
     "execution_count": 69,
     "metadata": {},
     "output_type": "execute_result"
    }
   ],
   "source": [
    "specs_tr=specs[4].findAll(\"tr\")\n",
    "specs_tr[0].text  #features\n",
    "specs_tr[1].td  #type\n",
    "specs_td = specs_tr[1].findAll(\"td\")\n",
    "specs_td[1]"
   ]
  },
  {
   "cell_type": "code",
   "execution_count": 70,
   "metadata": {
    "collapsed": true
   },
   "outputs": [],
   "source": [
    "features={}\n",
    "list(range(4,len(specs)))\n",
    "for i in range(4,len(specs)):\n",
    "    temp={}\n",
    "    specs_tr=specs[i].findAll(\"tr\")\n",
    "    for j in range(1,len(specs_tr)):\n",
    "        specs_td = specs_tr[j].findAll(\"td\")\n",
    "        temp[specs_td[0].text]=specs_td[1].text\n",
    "    features[specs_tr[0].text]=temp\n",
    "#features"
   ]
  },
  {
   "cell_type": "code",
   "execution_count": 71,
   "metadata": {
    "collapsed": true
   },
   "outputs": [],
   "source": [
    "def scrape_spec_features(specs):\n",
    "    final={}\n",
    "    specifications={}\n",
    "    for i in range(4):\n",
    "        specs_tr=specs[i].findAll(\"tr\")\n",
    "        temp={}\n",
    "        for j in range(len(specs_tr)):\n",
    "            specs_td=specs_tr[j].findAll(\"td\")\n",
    "            temp[specs_td[0].text]=specs_td[1].text\n",
    "        specifications[specs[i].th.text]=temp\n",
    "    features={}\n",
    "    list(range(4,len(specs)))\n",
    "    for i in range(4,len(specs)):\n",
    "        temp={}\n",
    "        specs_tr=specs[i].findAll(\"tr\")\n",
    "        for j in range(1,len(specs_tr)):\n",
    "            specs_td = specs_tr[j].findAll(\"td\")\n",
    "            temp[specs_td[0].text]=specs_td[1].text\n",
    "        features[specs_tr[0].text]=temp\n",
    "        \n",
    "    final[\"spec\"]=specifications\n",
    "    final[\"fea\"]=features\n",
    "    return final\n",
    "final = scrape_spec_features(specs)\n",
    "#final"
   ]
  },
  {
   "cell_type": "code",
   "execution_count": 72,
   "metadata": {
    "collapsed": true
   },
   "outputs": [],
   "source": [
    "def one_car(url):\n",
    "    response = requests.get(url)\n",
    "    soup = BeautifulSoup(response.content,\"html.parser\")\n",
    "    gen_key_spec = {\"key Specifications\":gen_data(soup)} #getting key specifications\n",
    "    detailed_spec = scrape_spec_features(specs) #detailed specifications\n",
    "    #return (gen_key_spec.update(detailed_spec))\n",
    "    res = {**gen_key_spec, **detailed_spec} \n",
    "    return res \n",
    "test = one_car('https://www.carwale.com/marutisuzuki-cars/baleno/alpha12/')\n",
    "#test[\"key Specifications\"]"
   ]
  },
  {
   "cell_type": "code",
   "execution_count": 73,
   "metadata": {
    "collapsed": true
   },
   "outputs": [],
   "source": [
    "#test[\"fea\"]"
   ]
  },
  {
   "cell_type": "code",
   "execution_count": 74,
   "metadata": {
    "collapsed": true
   },
   "outputs": [],
   "source": [
    "def one_brand(varients_url):\n",
    "    all_brand={}\n",
    "    brand_type_version_url = list(varients_url.values())\n",
    "    brand_names = list(varients_url.keys())\n",
    "    for i in range(len(brand_names)):\n",
    "        all_brand[brand_names[i]] = one_car(brand_type_version_url[i])\n",
    "    return all_brand\n",
    "all_brand = one_brand(varients_url)"
   ]
  },
  {
   "cell_type": "code",
   "execution_count": 298,
   "metadata": {
    "collapsed": true
   },
   "outputs": [],
   "source": [
    "f = open(\"/home/arch/project/all_brand.txt\",\"w+\")\n",
    "print(all_brand,file = f)"
   ]
  },
  {
   "cell_type": "code",
   "execution_count": 75,
   "metadata": {
    "collapsed": true
   },
   "outputs": [],
   "source": [
    "def get_varient():\n",
    "    varients_url = {}\n",
    "    for i in range(len(varient)):\n",
    "        m= re.search(r'<a href=\"(\\S+)\"',str(varient[i].a))\n",
    "        varients_url[varient[i].a.text]= \"https://www.carwale.com\"+ m.group(1)\n",
    "    return varients_url\n"
   ]
  },
  {
   "cell_type": "code",
   "execution_count": 66,
   "metadata": {
    "collapsed": true
   },
   "outputs": [],
   "source": [
    "#response = requests.get(url[0])\n",
    "#soup = BeautifulSoup(response.content,\"html.parser\")\n",
    "#model_name = soup.findAll(\"strong\",{\"class\":\"text-unbold\"})"
   ]
  },
  {
   "cell_type": "code",
   "execution_count": 76,
   "metadata": {
    "collapsed": true
   },
   "outputs": [],
   "source": [
    "def car_varient_url(url_index,n=1):\n",
    "    f = open(\"/home/arch/project/model_name_url_{}.txt\".format(url_index),\"w+\")\n",
    "    for i  in range(len(model_name)):\n",
    "        temp = str(model_name[i].text)\n",
    "        var = temp.split(\" \",n)[n].lower()\n",
    "        #var = temp.split(\" \",2)[2].lower()      #for 2 word name\n",
    "        new_list=var.split()\n",
    "        s = \"-\"\n",
    "        s = s.join(new_list)\n",
    "        #print(s)\n",
    "        #model_name_url.append(url[1]+ var)\n",
    "        print(url[url_index]+ s+\"/\",file = f)\n",
    "        \n",
    "\n",
    "    f.close()\n"
   ]
  },
  {
   "cell_type": "code",
   "execution_count": 72,
   "metadata": {},
   "outputs": [
    {
     "name": "stdout",
     "output_type": "stream",
     "text": [
      "0\n",
      "1\n",
      "2\n",
      "3\n",
      "4\n",
      "5\n",
      "6\n",
      "7\n",
      "8\n",
      "9\n",
      "10\n",
      "11\n",
      "12\n",
      "13\n",
      "14\n",
      "15\n",
      "16\n",
      "17\n",
      "18\n",
      "19\n",
      "20\n",
      "21\n",
      "22\n",
      "23\n",
      "24\n",
      "25\n",
      "26\n",
      "27\n",
      "28\n",
      "29\n",
      "30\n",
      "31\n",
      "32\n",
      "33\n",
      "34\n",
      "35\n",
      "36\n",
      "37\n"
     ]
    }
   ],
   "source": [
    "import time \n",
    "for i in range(len(url)):\n",
    "    response = requests.get(url[i])\n",
    "    soup = BeautifulSoup(response.content,\"html.parser\")\n",
    "    model_name = soup.findAll(\"strong\",{\"class\":\"text-unbold\"})\n",
    "    if(i==0 or i==17 or i==17+11 or i==17+11+6 ):\n",
    "        n=2\n",
    "        car_varient_url(i,n)\n",
    "    else:\n",
    "        car_varient_url(i)\n",
    "    #time.sleep(1)\n",
    "    print(i,end\" \")\n",
    "        \n",
    "        "
   ]
  },
  {
   "cell_type": "code",
   "execution_count": 22,
   "metadata": {},
   "outputs": [
    {
     "ename": "NameError",
     "evalue": "name 'one_brand' is not defined",
     "output_type": "error",
     "traceback": [
      "\u001b[0;31m---------------------------------------------------------------------------\u001b[0m",
      "\u001b[0;31mNameError\u001b[0m                                 Traceback (most recent call last)",
      "\u001b[0;32m<ipython-input-22-86496138ecab>\u001b[0m in \u001b[0;36m<module>\u001b[0;34m()\u001b[0m\n\u001b[1;32m      2\u001b[0m     \u001b[0mf\u001b[0m \u001b[0;34m=\u001b[0m \u001b[0mopen\u001b[0m\u001b[0;34m(\u001b[0m\u001b[0;34m\"/home/arch/project/model_name_url_{}.txt\"\u001b[0m\u001b[0;34m.\u001b[0m\u001b[0mformat\u001b[0m\u001b[0;34m(\u001b[0m\u001b[0mi\u001b[0m\u001b[0;34m)\u001b[0m\u001b[0;34m,\u001b[0m\u001b[0;34m\"r\"\u001b[0m\u001b[0;34m)\u001b[0m\u001b[0;34m\u001b[0m\u001b[0m\n\u001b[1;32m      3\u001b[0m     \u001b[0ml\u001b[0m \u001b[0;34m=\u001b[0m \u001b[0mf\u001b[0m\u001b[0;34m.\u001b[0m\u001b[0mreadlines\u001b[0m\u001b[0;34m(\u001b[0m\u001b[0;34m)\u001b[0m\u001b[0;34m\u001b[0m\u001b[0m\n\u001b[0;32m----> 4\u001b[0;31m     \u001b[0mall_brand\u001b[0m \u001b[0;34m=\u001b[0m \u001b[0mone_brand\u001b[0m\u001b[0;34m(\u001b[0m\u001b[0mvarients_url\u001b[0m\u001b[0;34m)\u001b[0m\u001b[0;34m\u001b[0m\u001b[0m\n\u001b[0m\u001b[1;32m      5\u001b[0m     \u001b[0mprint\u001b[0m\u001b[0;34m(\u001b[0m\u001b[0mall_brand\u001b[0m\u001b[0;34m)\u001b[0m\u001b[0;34m\u001b[0m\u001b[0m\n\u001b[1;32m      6\u001b[0m     \u001b[0;32mbreak\u001b[0m\u001b[0;34m\u001b[0m\u001b[0m\n",
      "\u001b[0;31mNameError\u001b[0m: name 'one_brand' is not defined"
     ]
    }
   ],
   "source": [
    "for i in range(37):\n",
    "    f = open(\"/home/arch/project/model_name_url_{}.txt\".format(i),\"r\")\n",
    "    l = f.readlines()\n",
    "    l[0] #1st element in the maruthi s-press find varients_url 1st\n",
    "    for i in range(len(l)):\n",
    "        response = requests.get(l[i])\n",
    "        soup = BeautifulSoup(response.content,\"html.parser\")\n",
    "        general_data=gen_data(soup)\n",
    "        \n",
    "        all_brand = one_brand(varients_url)\n",
    "        print(all_brand)\n",
    "        break\n",
    "    break"
   ]
  },
  {
   "cell_type": "code",
   "execution_count": 79,
   "metadata": {},
   "outputs": [
    {
     "data": {
      "text/plain": [
       "[<strong class=\"text-unbold\">Jeep Compass</strong>,\n",
       " <strong class=\"text-unbold\">Jeep Wrangler</strong>,\n",
       " <strong class=\"text-unbold\">Jeep Grand Cherokee</strong>,\n",
       " <strong class=\"text-unbold\">Jeep Renegade</strong>]"
      ]
     },
     "execution_count": 79,
     "metadata": {},
     "output_type": "execute_result"
    }
   ],
   "source": [
    "response = requests.get(url[i])\n",
    "soup = BeautifulSoup(response.content,\"html.parser\")\n",
    "model_name = soup.findAll(\"strong\",{\"class\":\"text-unbold\"})\n",
    "model_name"
   ]
  },
  {
   "cell_type": "code",
   "execution_count": null,
   "metadata": {
    "collapsed": true
   },
   "outputs": [],
   "source": []
  },
  {
   "cell_type": "code",
   "execution_count": null,
   "metadata": {
    "collapsed": true
   },
   "outputs": [],
   "source": []
  }
 ],
 "metadata": {
  "kernelspec": {
   "display_name": "Python 3",
   "language": "python",
   "name": "python3"
  },
  "language_info": {
   "codemirror_mode": {
    "name": "ipython",
    "version": 3
   },
   "file_extension": ".py",
   "mimetype": "text/x-python",
   "name": "python",
   "nbconvert_exporter": "python",
   "pygments_lexer": "ipython3",
   "version": "3.6.2"
  }
 },
 "nbformat": 4,
 "nbformat_minor": 2
}
